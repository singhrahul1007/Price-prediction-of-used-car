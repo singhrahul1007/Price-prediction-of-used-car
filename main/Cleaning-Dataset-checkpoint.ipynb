{
 "cells": [
  {
   "cell_type": "markdown",
   "id": "eb9f2438-b0ee-4e67-a737-0a1cfc10607b",
   "metadata": {},
   "source": [
    "<h1> Let's clean and Fix the issues that we found early"
   ]
  },
  {
   "cell_type": "code",
   "execution_count": 25,
   "id": "d28039bd-a5ef-4216-823e-2e4951c48e98",
   "metadata": {},
   "outputs": [],
   "source": [
    "%config IPCompleter.use_jedi = False \n",
    "%config Completer.evaluation = 'limited'\n",
    "import warnings\n",
    "warnings.filterwarnings('ignore')"
   ]
  },
  {
   "cell_type": "code",
   "execution_count": 26,
   "id": "dfa0bcbf-50bf-4dca-acad-f4e0717a4df3",
   "metadata": {},
   "outputs": [],
   "source": [
    "import numpy as np \n",
    "import pandas as pd \n",
    "import matplotlib.pyplot as plt \n",
    "import seaborn as sns "
   ]
  },
  {
   "cell_type": "code",
   "execution_count": 52,
   "id": "14833a38-350e-4f9a-9334-48582e258bc3",
   "metadata": {},
   "outputs": [],
   "source": [
    "cars = pd.read_csv('Data/quikr_car.csv')\n",
    "cars_backup = cars.copy() # Taking a back-up"
   ]
  },
  {
   "cell_type": "code",
   "execution_count": null,
   "id": "4274ab0e-97c2-419e-8974-09900a2c868f",
   "metadata": {},
   "outputs": [],
   "source": []
  },
  {
   "cell_type": "code",
   "execution_count": null,
   "id": "5a558b3c-4f04-4447-8156-ccf0887c9378",
   "metadata": {},
   "outputs": [],
   "source": []
  },
  {
   "cell_type": "markdown",
   "id": "97aeb4e4-2b90-4def-8e37-5d629046c08e",
   "metadata": {},
   "source": [
    "**There are some row where year col has invalid values(Not a year) remove these**"
   ]
  },
  {
   "cell_type": "code",
   "execution_count": 53,
   "id": "529b6175-e641-459f-b3ce-41a5fda12007",
   "metadata": {},
   "outputs": [],
   "source": [
    "# removing these rows where year is not a valid year\n",
    "cars = cars[cars['year'].str.isnumeric()]"
   ]
  },
  {
   "cell_type": "code",
   "execution_count": 54,
   "id": "93faf9da-71ad-4484-8076-452b95d8b035",
   "metadata": {},
   "outputs": [
    {
     "data": {
      "text/html": [
       "<div>\n",
       "<style scoped>\n",
       "    .dataframe tbody tr th:only-of-type {\n",
       "        vertical-align: middle;\n",
       "    }\n",
       "\n",
       "    .dataframe tbody tr th {\n",
       "        vertical-align: top;\n",
       "    }\n",
       "\n",
       "    .dataframe thead th {\n",
       "        text-align: right;\n",
       "    }\n",
       "</style>\n",
       "<table border=\"1\" class=\"dataframe\">\n",
       "  <thead>\n",
       "    <tr style=\"text-align: right;\">\n",
       "      <th></th>\n",
       "      <th>name</th>\n",
       "      <th>company</th>\n",
       "      <th>year</th>\n",
       "      <th>Price</th>\n",
       "      <th>kms_driven</th>\n",
       "      <th>fuel_type</th>\n",
       "    </tr>\n",
       "  </thead>\n",
       "  <tbody>\n",
       "  </tbody>\n",
       "</table>\n",
       "</div>"
      ],
      "text/plain": [
       "Empty DataFrame\n",
       "Columns: [name, company, year, Price, kms_driven, fuel_type]\n",
       "Index: []"
      ]
     },
     "execution_count": 54,
     "metadata": {},
     "output_type": "execute_result"
    }
   ],
   "source": [
    "cars[~cars['year'].str.isnumeric()]"
   ]
  },
  {
   "cell_type": "markdown",
   "id": "6f5f3836-daad-4115-8185-f4219cd61667",
   "metadata": {},
   "source": [
    "<h2> **year is in string format. Need's to make it integer**"
   ]
  },
  {
   "cell_type": "code",
   "execution_count": 55,
   "id": "12d5edcb-2cab-4fc0-9eae-8e1fbce0be59",
   "metadata": {},
   "outputs": [],
   "source": [
    "cars['year'] = cars['year'].astype(int) "
   ]
  },
  {
   "cell_type": "code",
   "execution_count": 56,
   "id": "46a156ce-1889-464d-8f22-2ab78f4d213f",
   "metadata": {},
   "outputs": [
    {
     "data": {
      "text/plain": [
       "(842, 6)"
      ]
     },
     "execution_count": 56,
     "metadata": {},
     "output_type": "execute_result"
    }
   ],
   "source": [
    "cars.shape"
   ]
  },
  {
   "cell_type": "markdown",
   "id": "43d2c535-d944-4e2b-ba36-09aab74c412b",
   "metadata": {},
   "source": [
    "<h2> There are some duplicate values need's to remove"
   ]
  },
  {
   "cell_type": "code",
   "execution_count": 57,
   "id": "736496b8-03af-4870-b32e-639f21b58fda",
   "metadata": {},
   "outputs": [
    {
     "data": {
      "text/plain": [
       "np.int64(93)"
      ]
     },
     "execution_count": 57,
     "metadata": {},
     "output_type": "execute_result"
    }
   ],
   "source": [
    "cars.duplicated().sum() "
   ]
  },
  {
   "cell_type": "code",
   "execution_count": 58,
   "id": "8e0c4312-aca1-43bc-9350-76bb081d6548",
   "metadata": {},
   "outputs": [],
   "source": [
    "cars = cars.drop_duplicates()"
   ]
  },
  {
   "cell_type": "code",
   "execution_count": 59,
   "id": "dc0730c7-0c61-435b-8c9d-7b55ff2afb5e",
   "metadata": {},
   "outputs": [
    {
     "data": {
      "text/plain": [
       "(749, 6)"
      ]
     },
     "execution_count": 59,
     "metadata": {},
     "output_type": "execute_result"
    }
   ],
   "source": [
    "cars.shape"
   ]
  },
  {
   "cell_type": "code",
   "execution_count": 60,
   "id": "97dd4f76-1b82-45fa-acbd-45dc72494e87",
   "metadata": {},
   "outputs": [
    {
     "data": {
      "text/plain": [
       "(22, 6)"
      ]
     },
     "execution_count": 60,
     "metadata": {},
     "output_type": "execute_result"
    }
   ],
   "source": [
    "# price col has invalid value.'Ask For Price' (non-numeric).\n",
    "cars[cars['Price'] == 'Ask For Price'].shape"
   ]
  },
  {
   "cell_type": "code",
   "execution_count": 61,
   "id": "a077f123-b9c7-4f44-983f-acb99eeeaccc",
   "metadata": {},
   "outputs": [],
   "source": [
    "# There are 22 rows. So remove these\n",
    "cars = cars[cars['Price'] != 'Ask For Price']"
   ]
  },
  {
   "cell_type": "code",
   "execution_count": 62,
   "id": "e062108f-9214-4019-a2ac-2fb914a935ff",
   "metadata": {},
   "outputs": [
    {
     "data": {
      "text/plain": [
       "(727, 6)"
      ]
     },
     "execution_count": 62,
     "metadata": {},
     "output_type": "execute_result"
    }
   ],
   "source": [
    "cars.shape"
   ]
  },
  {
   "cell_type": "code",
   "execution_count": 63,
   "id": "d8d38d97-f477-4798-9cb1-0f0580b22756",
   "metadata": {},
   "outputs": [],
   "source": [
    "# Now price col also have another issue. \n",
    "# 1. need to remove comma's from price and\n",
    "# 2. need to convert into numeric"
   ]
  },
  {
   "cell_type": "code",
   "execution_count": 64,
   "id": "0929c42d-22b2-4486-a4ce-aaf9ea43026a",
   "metadata": {},
   "outputs": [],
   "source": [
    "cars['Price'] = cars['Price'].str.replace(',' , '')"
   ]
  },
  {
   "cell_type": "code",
   "execution_count": 65,
   "id": "7e607025-7f1d-489d-9a88-2b5c63545e7a",
   "metadata": {},
   "outputs": [],
   "source": [
    "cars['Price'] = cars['Price'].astype(float)"
   ]
  },
  {
   "cell_type": "code",
   "execution_count": 66,
   "id": "862fd5ec-b748-4a7a-85a5-c4485782117a",
   "metadata": {},
   "outputs": [
    {
     "data": {
      "text/plain": [
       "(727, 6)"
      ]
     },
     "execution_count": 66,
     "metadata": {},
     "output_type": "execute_result"
    }
   ],
   "source": [
    "cars.shape"
   ]
  },
  {
   "cell_type": "code",
   "execution_count": 67,
   "id": "0cbebaab-6972-4bda-b611-141499d8dba8",
   "metadata": {},
   "outputs": [
    {
     "data": {
      "text/plain": [
       "np.int64(0)"
      ]
     },
     "execution_count": 67,
     "metadata": {},
     "output_type": "execute_result"
    }
   ],
   "source": [
    "cars['Price'].isna().sum()"
   ]
  },
  {
   "cell_type": "markdown",
   "id": "4711c70c-37d4-4201-ad3d-519c35e994dd",
   "metadata": {},
   "source": [
    "<h3> Let's Solve the kms_driven column"
   ]
  },
  {
   "cell_type": "code",
   "execution_count": 68,
   "id": "3ac29734-c79c-4dca-b513-493df8eb77f5",
   "metadata": {},
   "outputs": [],
   "source": [
    "# There are 2 issue's:\n",
    "# 1. need to remove the kms word\n",
    "# 2. need to convert into numerical value"
   ]
  },
  {
   "cell_type": "code",
   "execution_count": 69,
   "id": "0bc8f88e-e53f-49bf-a815-2f3d589fec06",
   "metadata": {},
   "outputs": [
    {
     "data": {
      "text/plain": [
       "array(['45,000 kms', '40 kms', '28,000 kms', '36,000 kms', '41,000 kms',\n",
       "       '25,000 kms', '24,530 kms', '60,000 kms', '30,000 kms',\n",
       "       '32,000 kms', '48,660 kms', '4,000 kms', '16,934 kms',\n",
       "       '43,000 kms', '35,550 kms', '39,522 kms', '39,000 kms',\n",
       "       '55,000 kms', '72,000 kms', '15,975 kms', '70,000 kms',\n",
       "       '23,452 kms', '35,522 kms', '48,508 kms', '15,487 kms',\n",
       "       '82,000 kms', '20,000 kms', '68,000 kms', '38,000 kms',\n",
       "       '27,000 kms', '33,000 kms', '46,000 kms', '16,000 kms',\n",
       "       '47,000 kms', '35,000 kms', '30,874 kms', '15,000 kms',\n",
       "       '29,685 kms', '1,30,000 kms', '19,000 kms', '54,000 kms',\n",
       "       '13,000 kms', '38,200 kms', '22,000 kms', '50,000 kms',\n",
       "       '13,500 kms', '3,600 kms', '45,863 kms', '60,500 kms',\n",
       "       '12,500 kms', '18,000 kms', '13,349 kms', '29,000 kms',\n",
       "       '44,000 kms', '42,000 kms', '14,000 kms', '49,000 kms',\n",
       "       '36,200 kms', '51,000 kms', '1,04,000 kms', '33,333 kms',\n",
       "       '33,600 kms', '5,600 kms', '7,500 kms', '26,000 kms', '24,330 kms',\n",
       "       '65,480 kms', '2,00,000 kms', '59,000 kms', '99,000 kms',\n",
       "       '2,800 kms', '21,000 kms', '11,000 kms', '66,000 kms', '3,000 kms',\n",
       "       '7,000 kms', '38,500 kms', '37,200 kms', '43,200 kms',\n",
       "       '24,800 kms', '45,872 kms', '40,000 kms', '11,400 kms',\n",
       "       '97,200 kms', '52,000 kms', '31,000 kms', '1,75,430 kms',\n",
       "       '37,000 kms', '65,000 kms', '3,350 kms', '75,000 kms',\n",
       "       '62,000 kms', '73,000 kms', '2,200 kms', '54,870 kms',\n",
       "       '34,580 kms', '97,000 kms', '60 kms', '80,200 kms', '3,200 kms',\n",
       "       '0,000 kms', '5,000 kms', '588 kms', '71,200 kms', '1,75,400 kms',\n",
       "       '9,300 kms', '56,758 kms', '10,000 kms', '56,450 kms',\n",
       "       '56,000 kms', '32,700 kms', '9,000 kms', '73 kms', '1,60,000 kms',\n",
       "       '58,559 kms', '57,000 kms', '1,70,000 kms', '80,000 kms',\n",
       "       '6,821 kms', '23,000 kms', '34,000 kms', '1,800 kms',\n",
       "       '4,00,000 kms', '48,000 kms', '90,000 kms', '12,000 kms',\n",
       "       '69,900 kms', '1,66,000 kms', '122 kms', '0 kms', '36,469 kms',\n",
       "       '7,800 kms', '24,695 kms', '15,141 kms', '59,910 kms',\n",
       "       '1,00,000 kms', '4,500 kms', '1,29,000 kms', '300 kms',\n",
       "       '1,31,000 kms', '1,11,111 kms', '59,466 kms', '25,500 kms',\n",
       "       '44,005 kms', '2,110 kms', '43,222 kms', '1,00,200 kms', '65 kms',\n",
       "       '1,40,000 kms', '1,03,553 kms', '58,000 kms', '1,20,000 kms',\n",
       "       '49,800 kms', '100 kms', '81,876 kms', '6,020 kms', '55,700 kms',\n",
       "       '18,500 kms', '53,000 kms', '35,500 kms', '22,134 kms',\n",
       "       '1,000 kms', '8,500 kms', '87,000 kms', '6,000 kms', '8,000 kms',\n",
       "       '55,800 kms', '56,400 kms', '72,160 kms', '11,500 kms',\n",
       "       '1,33,000 kms', '2,000 kms', '88,000 kms', '65,422 kms',\n",
       "       '1,17,000 kms', '1,50,000 kms', '10,750 kms', '6,800 kms',\n",
       "       '9,800 kms', '57,923 kms', '30,201 kms', '6,200 kms', '37,518 kms',\n",
       "       '24,652 kms', '383 kms', '95,000 kms', '3,528 kms', '52,500 kms',\n",
       "       '47,900 kms', '52,800 kms', '1,95,000 kms', '48,008 kms',\n",
       "       '48,247 kms', '9,400 kms', '64,000 kms', '2,137 kms', '10,544 kms',\n",
       "       '1,47,000 kms', '90,001 kms', '48,006 kms', '74,000 kms',\n",
       "       '85,000 kms', '29,500 kms', '39,700 kms', '67,000 kms',\n",
       "       '19,336 kms', '60,105 kms', '45,933 kms', '1,02,563 kms',\n",
       "       '28,600 kms', '41,800 kms', '1,16,000 kms', '42,590 kms',\n",
       "       '7,400 kms', '54,500 kms', '76,000 kms', '00 kms', '11,523 kms',\n",
       "       '38,600 kms', '95,500 kms', '37,458 kms', '85,960 kms',\n",
       "       '12,516 kms', '30,600 kms', '2,550 kms', '62,500 kms',\n",
       "       '69,000 kms', '28,400 kms', '68,485 kms', '3,500 kms',\n",
       "       '85,455 kms', '63,000 kms', '1,600 kms', '77,000 kms',\n",
       "       '26,500 kms', '2,875 kms', '13,900 kms', '1,500 kms', '2,450 kms',\n",
       "       '1,625 kms', '33,400 kms', '60,123 kms', '1,37,495 kms',\n",
       "       '91,200 kms', '1,46,000 kms', '1,00,800 kms', '2,100 kms',\n",
       "       '2,500 kms', '1,32,000 kms', 'Petrol'], dtype=object)"
      ]
     },
     "execution_count": 69,
     "metadata": {},
     "output_type": "execute_result"
    }
   ],
   "source": [
    "cars['kms_driven'].unique()"
   ]
  },
  {
   "cell_type": "code",
   "execution_count": 70,
   "id": "d83e01fa-3042-462d-8be9-2f34f9fd21d0",
   "metadata": {},
   "outputs": [
    {
     "data": {
      "text/html": [
       "<div>\n",
       "<style scoped>\n",
       "    .dataframe tbody tr th:only-of-type {\n",
       "        vertical-align: middle;\n",
       "    }\n",
       "\n",
       "    .dataframe tbody tr th {\n",
       "        vertical-align: top;\n",
       "    }\n",
       "\n",
       "    .dataframe thead th {\n",
       "        text-align: right;\n",
       "    }\n",
       "</style>\n",
       "<table border=\"1\" class=\"dataframe\">\n",
       "  <thead>\n",
       "    <tr style=\"text-align: right;\">\n",
       "      <th></th>\n",
       "      <th>name</th>\n",
       "      <th>company</th>\n",
       "      <th>year</th>\n",
       "      <th>Price</th>\n",
       "      <th>kms_driven</th>\n",
       "      <th>fuel_type</th>\n",
       "    </tr>\n",
       "  </thead>\n",
       "  <tbody>\n",
       "    <tr>\n",
       "      <th>890</th>\n",
       "      <td>Honda Amaze 1.2 E i VTEC</td>\n",
       "      <td>Honda</td>\n",
       "      <td>2014</td>\n",
       "      <td>180000.0</td>\n",
       "      <td>Petrol</td>\n",
       "      <td>NaN</td>\n",
       "    </tr>\n",
       "    <tr>\n",
       "      <th>891</th>\n",
       "      <td>Chevrolet Sail 1.2 LT ABS</td>\n",
       "      <td>Chevrolet</td>\n",
       "      <td>2014</td>\n",
       "      <td>160000.0</td>\n",
       "      <td>Petrol</td>\n",
       "      <td>NaN</td>\n",
       "    </tr>\n",
       "  </tbody>\n",
       "</table>\n",
       "</div>"
      ],
      "text/plain": [
       "                          name    company  year     Price kms_driven fuel_type\n",
       "890   Honda Amaze 1.2 E i VTEC      Honda  2014  180000.0     Petrol       NaN\n",
       "891  Chevrolet Sail 1.2 LT ABS  Chevrolet  2014  160000.0     Petrol       NaN"
      ]
     },
     "execution_count": 70,
     "metadata": {},
     "output_type": "execute_result"
    }
   ],
   "source": [
    "cars[cars['kms_driven'] == 'Petrol']"
   ]
  },
  {
   "cell_type": "code",
   "execution_count": 71,
   "id": "727ef762-c725-4b8a-9d85-f00037de655e",
   "metadata": {},
   "outputs": [],
   "source": [
    "# removing row where kms_driven is 'petrol'\n",
    "cars = cars[cars['kms_driven'] != 'Petrol']"
   ]
  },
  {
   "cell_type": "code",
   "execution_count": 77,
   "id": "aa1f9f41-f261-4690-872d-3fc265ca8097",
   "metadata": {},
   "outputs": [],
   "source": [
    "# remove kms ans extra space from first and last \n",
    "cars['kms_driven'] = cars['kms_driven'].str.split(' ').str.get(0)"
   ]
  },
  {
   "cell_type": "code",
   "execution_count": 80,
   "id": "530c9fd2-af42-4fed-9bef-2b02e87613ff",
   "metadata": {},
   "outputs": [],
   "source": [
    "cars['kms_driven'] = cars['kms_driven'].str.replace(',' , '')"
   ]
  },
  {
   "cell_type": "code",
   "execution_count": 81,
   "id": "42013be3-55a6-4d61-8753-00a10c9f6829",
   "metadata": {},
   "outputs": [
    {
     "data": {
      "text/plain": [
       "0       45000\n",
       "1          40\n",
       "3       28000\n",
       "4       36000\n",
       "6       41000\n",
       "        ...  \n",
       "883     50000\n",
       "885     30000\n",
       "886    132000\n",
       "888     27000\n",
       "889     40000\n",
       "Name: kms_driven, Length: 725, dtype: object"
      ]
     },
     "execution_count": 81,
     "metadata": {},
     "output_type": "execute_result"
    }
   ],
   "source": [
    "cars['kms_driven']"
   ]
  },
  {
   "cell_type": "code",
   "execution_count": 83,
   "id": "5b05aeba-0756-4330-b480-95a576682f03",
   "metadata": {},
   "outputs": [],
   "source": [
    "# convert into integers\n",
    "cars['kms_driven'] = cars['kms_driven'].astype(int)"
   ]
  },
  {
   "cell_type": "code",
   "execution_count": 84,
   "id": "12371722-9ed5-45af-87e4-d6480ee94844",
   "metadata": {},
   "outputs": [
    {
     "name": "stdout",
     "output_type": "stream",
     "text": [
      "<class 'pandas.core.frame.DataFrame'>\n",
      "Index: 725 entries, 0 to 889\n",
      "Data columns (total 6 columns):\n",
      " #   Column      Non-Null Count  Dtype  \n",
      "---  ------      --------------  -----  \n",
      " 0   name        725 non-null    object \n",
      " 1   company     725 non-null    object \n",
      " 2   year        725 non-null    int64  \n",
      " 3   Price       725 non-null    float64\n",
      " 4   kms_driven  725 non-null    int64  \n",
      " 5   fuel_type   724 non-null    object \n",
      "dtypes: float64(1), int64(2), object(3)\n",
      "memory usage: 39.6+ KB\n"
     ]
    }
   ],
   "source": [
    "cars.info()"
   ]
  },
  {
   "cell_type": "markdown",
   "id": "cfe0a59f-7962-4e14-bf31-31b4e660d25c",
   "metadata": {},
   "source": [
    "<h3> Now solve fuel_type col's issue's"
   ]
  },
  {
   "cell_type": "code",
   "execution_count": 85,
   "id": "afeb1b52-1646-4338-a731-512f479b7add",
   "metadata": {},
   "outputs": [
    {
     "data": {
      "text/plain": [
       "np.int64(1)"
      ]
     },
     "execution_count": 85,
     "metadata": {},
     "output_type": "execute_result"
    }
   ],
   "source": [
    "# Issue's: \n",
    "# has missing values\n",
    "cars['fuel_type'].isna().sum()"
   ]
  },
  {
   "cell_type": "code",
   "execution_count": 86,
   "id": "74014a70-b98f-4ae0-a575-5ed054a6e070",
   "metadata": {},
   "outputs": [
    {
     "data": {
      "text/html": [
       "<div>\n",
       "<style scoped>\n",
       "    .dataframe tbody tr th:only-of-type {\n",
       "        vertical-align: middle;\n",
       "    }\n",
       "\n",
       "    .dataframe tbody tr th {\n",
       "        vertical-align: top;\n",
       "    }\n",
       "\n",
       "    .dataframe thead th {\n",
       "        text-align: right;\n",
       "    }\n",
       "</style>\n",
       "<table border=\"1\" class=\"dataframe\">\n",
       "  <thead>\n",
       "    <tr style=\"text-align: right;\">\n",
       "      <th></th>\n",
       "      <th>name</th>\n",
       "      <th>company</th>\n",
       "      <th>year</th>\n",
       "      <th>Price</th>\n",
       "      <th>kms_driven</th>\n",
       "      <th>fuel_type</th>\n",
       "    </tr>\n",
       "  </thead>\n",
       "  <tbody>\n",
       "    <tr>\n",
       "      <th>132</th>\n",
       "      <td>Toyota Corolla</td>\n",
       "      <td>Toyota</td>\n",
       "      <td>2009</td>\n",
       "      <td>275000.0</td>\n",
       "      <td>26000</td>\n",
       "      <td>NaN</td>\n",
       "    </tr>\n",
       "  </tbody>\n",
       "</table>\n",
       "</div>"
      ],
      "text/plain": [
       "               name company  year     Price  kms_driven fuel_type\n",
       "132  Toyota Corolla  Toyota  2009  275000.0       26000       NaN"
      ]
     },
     "execution_count": 86,
     "metadata": {},
     "output_type": "execute_result"
    }
   ],
   "source": [
    "cars[cars['fuel_type'].isna()]"
   ]
  },
  {
   "cell_type": "code",
   "execution_count": 88,
   "id": "78f058dc-7878-4285-b181-60a22adb1a4b",
   "metadata": {},
   "outputs": [],
   "source": [
    "# remove this one row\n",
    "cars = cars[~cars['fuel_type'].isna()]"
   ]
  },
  {
   "cell_type": "code",
   "execution_count": 89,
   "id": "100ef61f-ccf4-4e24-8caf-92347ca8661c",
   "metadata": {},
   "outputs": [
    {
     "data": {
      "text/plain": [
       "(724, 6)"
      ]
     },
     "execution_count": 89,
     "metadata": {},
     "output_type": "execute_result"
    }
   ],
   "source": [
    "cars.shape"
   ]
  },
  {
   "cell_type": "markdown",
   "id": "e4e1ab41-5f4d-4eea-a67e-f73c5e66c8c4",
   "metadata": {},
   "source": [
    "<h2> Let's Start with name column"
   ]
  },
  {
   "cell_type": "code",
   "execution_count": 94,
   "id": "ea32ba99-9674-484e-9f6b-e2f0a7534a69",
   "metadata": {},
   "outputs": [
    {
     "data": {
      "text/plain": [
       "0        Hyundai Santro Xing XO eRLX Euro III\n",
       "1                     Mahindra Jeep CL550 MDI\n",
       "3      Hyundai Grand i10 Magna 1.2 Kappa VTVT\n",
       "4            Ford EcoSport Titanium 1.5L TDCi\n",
       "6                                   Ford Figo\n",
       "                        ...                  \n",
       "883                Maruti Suzuki Ritz VXI ABS\n",
       "885                 Tata Indica V2 DLE BS III\n",
       "886                      Toyota Corolla Altis\n",
       "888                       Tata Zest XM Diesel\n",
       "889                        Mahindra Quanto C8\n",
       "Name: name, Length: 724, dtype: object"
      ]
     },
     "execution_count": 94,
     "metadata": {},
     "output_type": "execute_result"
    }
   ],
   "source": [
    "cars['name']"
   ]
  },
  {
   "cell_type": "code",
   "execution_count": 98,
   "id": "5420412d-7368-4441-a081-3f3a314e05fd",
   "metadata": {},
   "outputs": [],
   "source": [
    "# name col is very spam type. So let's take 1st 3 words as car_name\n",
    "''' \n",
    "we will spit the name col based on space. Then we will take 1st 3 word's as car name. Then we will join them with a space\n",
    "'''\n",
    "cars['name'] = cars['name'].str.split(' ').str.slice(0 , 3).str.join(' ')"
   ]
  },
  {
   "cell_type": "code",
   "execution_count": 99,
   "id": "86b61cec-73e5-49ed-9fa2-7420bc785468",
   "metadata": {},
   "outputs": [
    {
     "data": {
      "text/html": [
       "<div>\n",
       "<style scoped>\n",
       "    .dataframe tbody tr th:only-of-type {\n",
       "        vertical-align: middle;\n",
       "    }\n",
       "\n",
       "    .dataframe tbody tr th {\n",
       "        vertical-align: top;\n",
       "    }\n",
       "\n",
       "    .dataframe thead th {\n",
       "        text-align: right;\n",
       "    }\n",
       "</style>\n",
       "<table border=\"1\" class=\"dataframe\">\n",
       "  <thead>\n",
       "    <tr style=\"text-align: right;\">\n",
       "      <th></th>\n",
       "      <th>name</th>\n",
       "      <th>company</th>\n",
       "      <th>year</th>\n",
       "      <th>Price</th>\n",
       "      <th>kms_driven</th>\n",
       "      <th>fuel_type</th>\n",
       "    </tr>\n",
       "  </thead>\n",
       "  <tbody>\n",
       "    <tr>\n",
       "      <th>0</th>\n",
       "      <td>Hyundai Santro Xing</td>\n",
       "      <td>Hyundai</td>\n",
       "      <td>2007</td>\n",
       "      <td>80000.0</td>\n",
       "      <td>45000</td>\n",
       "      <td>Petrol</td>\n",
       "    </tr>\n",
       "    <tr>\n",
       "      <th>1</th>\n",
       "      <td>Mahindra Jeep CL550</td>\n",
       "      <td>Mahindra</td>\n",
       "      <td>2006</td>\n",
       "      <td>425000.0</td>\n",
       "      <td>40</td>\n",
       "      <td>Diesel</td>\n",
       "    </tr>\n",
       "    <tr>\n",
       "      <th>3</th>\n",
       "      <td>Hyundai Grand i10</td>\n",
       "      <td>Hyundai</td>\n",
       "      <td>2014</td>\n",
       "      <td>325000.0</td>\n",
       "      <td>28000</td>\n",
       "      <td>Petrol</td>\n",
       "    </tr>\n",
       "    <tr>\n",
       "      <th>4</th>\n",
       "      <td>Ford EcoSport Titanium</td>\n",
       "      <td>Ford</td>\n",
       "      <td>2014</td>\n",
       "      <td>575000.0</td>\n",
       "      <td>36000</td>\n",
       "      <td>Diesel</td>\n",
       "    </tr>\n",
       "    <tr>\n",
       "      <th>6</th>\n",
       "      <td>Ford Figo</td>\n",
       "      <td>Ford</td>\n",
       "      <td>2012</td>\n",
       "      <td>175000.0</td>\n",
       "      <td>41000</td>\n",
       "      <td>Diesel</td>\n",
       "    </tr>\n",
       "    <tr>\n",
       "      <th>...</th>\n",
       "      <td>...</td>\n",
       "      <td>...</td>\n",
       "      <td>...</td>\n",
       "      <td>...</td>\n",
       "      <td>...</td>\n",
       "      <td>...</td>\n",
       "    </tr>\n",
       "    <tr>\n",
       "      <th>883</th>\n",
       "      <td>Maruti Suzuki Ritz</td>\n",
       "      <td>Maruti</td>\n",
       "      <td>2011</td>\n",
       "      <td>270000.0</td>\n",
       "      <td>50000</td>\n",
       "      <td>Petrol</td>\n",
       "    </tr>\n",
       "    <tr>\n",
       "      <th>885</th>\n",
       "      <td>Tata Indica V2</td>\n",
       "      <td>Tata</td>\n",
       "      <td>2009</td>\n",
       "      <td>110000.0</td>\n",
       "      <td>30000</td>\n",
       "      <td>Diesel</td>\n",
       "    </tr>\n",
       "    <tr>\n",
       "      <th>886</th>\n",
       "      <td>Toyota Corolla Altis</td>\n",
       "      <td>Toyota</td>\n",
       "      <td>2009</td>\n",
       "      <td>300000.0</td>\n",
       "      <td>132000</td>\n",
       "      <td>Petrol</td>\n",
       "    </tr>\n",
       "    <tr>\n",
       "      <th>888</th>\n",
       "      <td>Tata Zest XM</td>\n",
       "      <td>Tata</td>\n",
       "      <td>2018</td>\n",
       "      <td>260000.0</td>\n",
       "      <td>27000</td>\n",
       "      <td>Diesel</td>\n",
       "    </tr>\n",
       "    <tr>\n",
       "      <th>889</th>\n",
       "      <td>Mahindra Quanto C8</td>\n",
       "      <td>Mahindra</td>\n",
       "      <td>2013</td>\n",
       "      <td>390000.0</td>\n",
       "      <td>40000</td>\n",
       "      <td>Diesel</td>\n",
       "    </tr>\n",
       "  </tbody>\n",
       "</table>\n",
       "<p>724 rows × 6 columns</p>\n",
       "</div>"
      ],
      "text/plain": [
       "                       name   company  year     Price  kms_driven fuel_type\n",
       "0       Hyundai Santro Xing   Hyundai  2007   80000.0       45000    Petrol\n",
       "1       Mahindra Jeep CL550  Mahindra  2006  425000.0          40    Diesel\n",
       "3         Hyundai Grand i10   Hyundai  2014  325000.0       28000    Petrol\n",
       "4    Ford EcoSport Titanium      Ford  2014  575000.0       36000    Diesel\n",
       "6                 Ford Figo      Ford  2012  175000.0       41000    Diesel\n",
       "..                      ...       ...   ...       ...         ...       ...\n",
       "883      Maruti Suzuki Ritz    Maruti  2011  270000.0       50000    Petrol\n",
       "885          Tata Indica V2      Tata  2009  110000.0       30000    Diesel\n",
       "886    Toyota Corolla Altis    Toyota  2009  300000.0      132000    Petrol\n",
       "888            Tata Zest XM      Tata  2018  260000.0       27000    Diesel\n",
       "889      Mahindra Quanto C8  Mahindra  2013  390000.0       40000    Diesel\n",
       "\n",
       "[724 rows x 6 columns]"
      ]
     },
     "execution_count": 99,
     "metadata": {},
     "output_type": "execute_result"
    }
   ],
   "source": [
    "cars"
   ]
  },
  {
   "cell_type": "code",
   "execution_count": 101,
   "id": "7dfcbaad-4095-41f1-bec5-b2fb7702076c",
   "metadata": {},
   "outputs": [],
   "source": [
    "# As some indice's are removed so let's reset them\n",
    "cars = cars.reset_index(drop = True)"
   ]
  },
  {
   "cell_type": "code",
   "execution_count": 102,
   "id": "0c33558e-f2c4-44a4-9850-56a547b5f2de",
   "metadata": {},
   "outputs": [
    {
     "data": {
      "text/plain": [
       "(724, 6)"
      ]
     },
     "execution_count": 102,
     "metadata": {},
     "output_type": "execute_result"
    }
   ],
   "source": [
    "cars.shape"
   ]
  },
  {
   "cell_type": "code",
   "execution_count": 103,
   "id": "d6a6e4b7-c562-4267-9cfc-fa010c557191",
   "metadata": {},
   "outputs": [
    {
     "name": "stdout",
     "output_type": "stream",
     "text": [
      "<class 'pandas.core.frame.DataFrame'>\n",
      "RangeIndex: 724 entries, 0 to 723\n",
      "Data columns (total 6 columns):\n",
      " #   Column      Non-Null Count  Dtype  \n",
      "---  ------      --------------  -----  \n",
      " 0   name        724 non-null    object \n",
      " 1   company     724 non-null    object \n",
      " 2   year        724 non-null    int64  \n",
      " 3   Price       724 non-null    float64\n",
      " 4   kms_driven  724 non-null    int64  \n",
      " 5   fuel_type   724 non-null    object \n",
      "dtypes: float64(1), int64(2), object(3)\n",
      "memory usage: 34.1+ KB\n"
     ]
    }
   ],
   "source": [
    "cars.info()"
   ]
  },
  {
   "cell_type": "markdown",
   "id": "02b73bd6-204b-44e4-a00a-92308920ff68",
   "metadata": {},
   "source": [
    "## Now Our Data is cleaned So now it's time to perform some EDA. Before doing this let's save the cleaned Data"
   ]
  },
  {
   "cell_type": "code",
   "execution_count": 105,
   "id": "205a5362-29e2-40e9-95be-6b5edd934e65",
   "metadata": {},
   "outputs": [],
   "source": [
    "file_path = r'Data/cleaned_car_data.csv'\n",
    "cars.to_csv(file_path , index = False)"
   ]
  }
 ],
 "metadata": {
  "kernelspec": {
   "display_name": "Python 3 (ipykernel)",
   "language": "python",
   "name": "python3"
  },
  "language_info": {
   "codemirror_mode": {
    "name": "ipython",
    "version": 3
   },
   "file_extension": ".py",
   "mimetype": "text/x-python",
   "name": "python",
   "nbconvert_exporter": "python",
   "pygments_lexer": "ipython3",
   "version": "3.12.7"
  },
  "widgets": {
   "application/vnd.jupyter.widget-state+json": {
    "state": {},
    "version_major": 2,
    "version_minor": 0
   }
  }
 },
 "nbformat": 4,
 "nbformat_minor": 5
}
