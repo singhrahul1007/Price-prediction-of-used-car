get_ipython().run_line_magic("config", " IPCompleter.use_jedi = False ")
get_ipython().run_line_magic("config", " Completer.evaluation = 'limited'")
import warnings
warnings.filterwarnings('ignore')


import numpy as np 
import pandas as pd 
import matplotlib.pyplot as plt 
import seaborn as sns 








# Import TrainTestSplit
from sklearn.model_selection import train_test_split
# import SimpleImputer to fill missing values
from sklearn.impute import SimpleImputer
# import encoder for both categorical and numerical
from sklearn.preprocessing import OneHotEncoder , OrdinalEncoder
# import column transformer
from sklearn.compose import ColumnTransformer , make_column_transformer
# Import pipeline
from sklearn.pipeline import make_pipeline
# Import metrices to check model's performance's
from sklearn.metrics import r2_score
# Import the LinearRegression class for model
from sklearn.linear_model import LinearRegression
# import pickle to save the model 
import pickle








cars = pd.read_csv('../Data/cleaned_car_data.csv')
cars.head(3)





# All input col's expect the target col Price
X = cars.drop(columns = ['Price'])
# y is the target col 
y = cars['Price']


X.head(3)


y





categorical_features = ['name', 'company', 'fuel_type']
numerical_features = ['year', 'kms_driven']





ohe = OneHotEncoder(handle_unknown = 'ignore')
ohe.fit(X[categorical_features])


# ohe.categories_





with open('../Data/ohe_categories.pkl' , 'wb') as f:
    pickle.dump(ohe.categories_ , f) 





# pipeline for numerical_features
numerical_pipeline = make_pipeline(
    SimpleImputer(strategy = 'mean') # if we got any missing numercal values we will fill it using mean value
)


# pipeline for categorical_features
categorical_pipeline = make_pipeline(
    SimpleImputer(strategy = 'most_frequent'), # fill missing categories with most frequent values
    OneHotEncoder(categories = ohe.categories_ , handle_unknown = 'ignore') # encode the cateforical values, if unkown categori then ignore
)





preprocessor = ColumnTransformer(
    transformers = [
        ('num' , numerical_pipeline , numerical_features), 
        ('cat' , categorical_pipeline , categorical_features)
    ], 
    remainder = 'passthrough'
)





model_pipeline = make_pipeline(
    preprocessor, 
    LinearRegression()
)





X_train, X_test, y_train, y_test = train_test_split( X, y, test_size=0.2, random_state=42)





model_pipeline.fit(X_train , y_train)





y_pred_test = model_pipeline.predict(X_test)
r2_score(y_test , y_pred_test)





r2Scores = [] # stores all the r2_scores

# Iterate 2000 times to get the best r2_score
iterations = 2000
for i in range(iterations):
    # Split train and test using i random_state
    X_train , X_test , y_train , y_test = train_test_split(X , y , test_size = 0.2 , random_state = i)
    # make the model 
    temp_model = make_pipeline(preprocessor , LinearRegression())
    # fit the current train set 
    temp_model.fit(X_train , y_train)
    # predict the current test data 
    y_pred = temp_model.predict(X_test)
    # Find the r2_score and store it 
    r2Scores.append(r2_score(y_test , y_pred))


r2Scores[np.argmax(r2Scores)]


np.argmax(r2Scores)





random_state = np.argmax(r2Scores)

X_train , X_test , y_train , y_test = train_test_split(X , y , test_size = 0.2 , random_state = random_state)
lr = LinearRegression()

final_model = make_pipeline(preprocessor , lr) 

final_model.fit(X_train , y_train)


y_pred = final_model.predict(X_test)
r2_score(y_test , y_pred)


# Let's predict a single sample

final_model.predict(pd.DataFrame([['Maruti Suzuki Swift' , 'Maruti' , 2019 , 100 , 'Petrol']] , 
                                    columns = ['name' , 'company' , 'year' , 'kms_driven' , 'fuel_type']))


# save the model 
model_path = '../Model/LinearRegressionModel2.pkl'
pickle.dump(final_model , open(model_path , 'wb'))



