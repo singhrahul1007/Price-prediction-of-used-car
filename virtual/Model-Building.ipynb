get_ipython().run_line_magic("config", " IPCompleter.use_jedi = False ")
get_ipython().run_line_magic("config", " Completer.evaluation = 'limited'")
import warnings
warnings.filterwarnings('ignore')


import numpy as np 
import pandas as pd 
import matplotlib.pyplot as plt 
import seaborn as sns 





from sklearn.model_selection import train_test_split

# import the LinearRegression Model class 
from sklearn.linear_model import LinearRegression
# As we have string type column so we need to encode this
from sklearn.preprocessing import OneHotEncoder
# import matrices to evaluate the model's performance
from sklearn.metrics import r2_score
# as we need to apply tranformer on multiple cols and also need to make a pipeline so we will import 2 extra thins
from sklearn.compose import ColumnTransformer , make_column_transformer
from sklearn.pipeline import make_pipeline
# To fill the missing values we need SimpleImputer
from sklearn.impute import SimpleImputer


cars = pd.read_csv('../Data/cleaned_car_data.csv')


# Extract the input and target features
X = cars.drop(columns = ['Price'])
y = cars['Price']


X 


# split the train and test set 
X_train , X_test , y_train , y_test = train_test_split(X , y , test_size = 0.2 , random_state = 2)





X_train.shape








# Pipepline for categorical col 
cat_pipeline = make_pipeline(
    SimpleImputer(strategy = 'most_frequent'), # Handle missing categorical data
    OneHotEncoder(handle_unknown = 'ignore') # One-hot encode the categorical features 
)


# # Pipepline for neumerical col(year and kms_driven)
num_pipeline = make_pipeline(
    SimpleImputer(strategy = 'mean') # handle the missing numeric data
)


# Define the column transformer
column_transformer = make_column_transformer(
    (cat_pipeline , ['name' , 'company' , 'fuel_type']), 
    (num_pipeline , ['year' , 'kms_driven']), 
    remainder = 'passthrough'
)


# Final Pipeline: Transformer + Linear Model 
pipeline = make_pipeline(
    column_transformer , 
    LinearRegression()
)


# train the model and predict
pipeline.fit(X_train, y_train)
y_pred = pipeline.predict(X_test)


r2_score(y_test , y_pred)


r2Scores = []
for i in range(1000):
    X_train , X_test , y_train , y_test = train_test_split(X , y , test_size = 0.2 , random_state = i) 
    lr = LinearRegression()
    pipeline = make_pipeline(column_transformer , lr)
    pipeline.fit(X_train , y_train) 
    y_pred = pipeline.predict(X_test)
    r2Scores.append(r2_score(y_test , y_pred))


np.argmax(r2Scores)


r2Scores[np.argmax(r2Scores)]





ohe = OneHotEncoder()
ohe.fit(X[['name' , 'company' , 'fuel_type']])


column_trans = make_column_transformer(
    (OneHotEncoder(categories = ohe.categories , handle_unknown = 'ignore') , ['name' , 'company' , 'fuel_type']), 
    remainder = 'passthrough'
)


lr = LinearRegression()


pipe = make_pipeline(column_trans , lr)


pipe.fit(X_train , y_train)


y_pred = pipe.predict(X_test)


r2Scores1 = []
for i in range(1000):
    X_train , X_test , y_train , y_test = train_test_split(X , y , test_size = 0.2 , random_state = i) 
    lr1 = LinearRegression()
    pipeline1 = make_pipeline(column_trans , lr1)
    pipeline1.fit(X_train , y_train) 
    y_pred1 = pipeline.predict(X_test)
    r2Scores1.append(r2_score(y_test , y_pred1))


r2Scores1[np.argmax(r2Scores1)]








X_train , X_test , y_train , y_test = train_test_split(X , y , test_size = 0.2 , random_state = np.argmax(r2Scores1)) 

lr_final = LinearRegression()

pipeline_final = make_pipeline(column_trans , lr_final)
pipeline_final.fit(X_train , y_train) 



y_pred1 = pipeline.predict(X_test)
r2_score(y_test , y_pred1)


import pickle


# save the model
model_path = 'Model/LinearRegressionModel.pkl'

pickle.dump(pipeline_final , open(model_path , 'wb'))





# Let's predict a single sample

pipeline_final.predict(pd.DataFrame([['Maruti Suzuki Swift' , 'Maruti' , 2019 , 100 , 'Petrol']] , 
                                    columns = ['name' , 'company' , 'year' , 'kms_driven' , 'fuel_type']))



